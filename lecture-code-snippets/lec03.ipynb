{
 "cells": [
  {
   "cell_type": "code",
   "execution_count": null,
   "id": "13abe5e7-80a1-495e-a7ce-60eeab1fc333",
   "metadata": {},
   "outputs": [],
   "source": [
    "#datatypes , int , float, string, \n",
    "#identifiers\n",
    "#different system-defined functions - print, input, type\n",
    "#IDLE\n",
    "#smart editor Jupiter Notebook\n",
    "#simple pgm - to find out the area of circle , area of rectangle and square, stud mks calc\n",
    "#comments - single line and the multiline comments\n",
    "#escape sequences - \\t and \\n\n"
   ]
  },
  {
   "cell_type": "code",
   "execution_count": 1,
   "id": "828db053-f9cf-48b3-8afc-0355da6d5644",
   "metadata": {},
   "outputs": [
    {
     "data": {
      "text/plain": [
       "True"
      ]
     },
     "execution_count": 1,
     "metadata": {},
     "output_type": "execute_result"
    }
   ],
   "source": [
    "a=67\n",
    "b=34.2\n",
    "c=\"Python\"\n",
    "a>b"
   ]
  },
  {
   "cell_type": "code",
   "execution_count": 2,
   "id": "c3ef5656-10da-4976-9784-6bae56dfbfd6",
   "metadata": {},
   "outputs": [
    {
     "name": "stdout",
     "output_type": "stream",
     "text": [
      "67\n",
      "34.2\n",
      "Python\n"
     ]
    }
   ],
   "source": [
    "print(a)\n",
    "print(b)\n",
    "print(c)"
   ]
  },
  {
   "cell_type": "code",
   "execution_count": 5,
   "id": "dd3176a1-27ae-45dc-b3a8-f3670fde4e5d",
   "metadata": {},
   "outputs": [
    {
     "name": "stdout",
     "output_type": "stream",
     "text": [
      "<class 'int'>\n",
      "<class 'float'>\n",
      "<class 'str'>\n",
      "<class 'bool'>\n"
     ]
    }
   ],
   "source": [
    "print(type(a))\n",
    "print(type(b))\n",
    "print(type(c))\n",
    "print(type(a>b))"
   ]
  },
  {
   "cell_type": "code",
   "execution_count": 9,
   "id": "d46312ed-ab90-46e1-9fc5-8b8ac29351b4",
   "metadata": {},
   "outputs": [
    {
     "name": "stdin",
     "output_type": "stream",
     "text": [
      "enter the name of the student abc\n",
      "enter the 1st test 78\n",
      "enter the 2nd test 89\n",
      "enter the 3rd test 90\n"
     ]
    },
    {
     "name": "stdout",
     "output_type": "stream",
     "text": [
      "total mks of - name 257 abc\n"
     ]
    },
    {
     "data": {
      "text/plain": [
       "' this program calculates the total of the marks\\nI hope you understood it'"
      ]
     },
     "execution_count": 9,
     "metadata": {},
     "output_type": "execute_result"
    }
   ],
   "source": [
    "# using input() function along with the datatypes\n",
    "name=input(\"enter the name of the student\")\n",
    "mk1=int(input(\"enter the 1st test\"))\n",
    "mk2=int(input(\"enter the 2nd test\"))\n",
    "mk3=int(input(\"enter the 3rd test\"))\n",
    "total=mk1+mk2+mk3\n",
    "print(\"total mks of -\",\"name\", total, name)\n",
    "\"\"\" this program calculates the total of the marks\n",
    "I hope you understood it\"\"\"\n",
    "\n",
    "\n"
   ]
  },
  {
   "cell_type": "code",
   "execution_count": 10,
   "id": "f8468adf-91dc-40da-9e50-451eea2e3db5",
   "metadata": {},
   "outputs": [
    {
     "name": "stdout",
     "output_type": "stream",
     "text": [
      "140722801988088\n"
     ]
    }
   ],
   "source": [
    "print(id(a))"
   ]
  },
  {
   "cell_type": "code",
   "execution_count": 13,
   "id": "88006c79-5fae-41e6-a43d-f6688479de92",
   "metadata": {},
   "outputs": [
    {
     "data": {
      "text/plain": [
       "56"
      ]
     },
     "execution_count": 13,
     "metadata": {},
     "output_type": "execute_result"
    }
   ],
   "source": [
    "b1ab=56\n",
    "b1ab"
   ]
  },
  {
   "cell_type": "code",
   "execution_count": 14,
   "id": "83e22e5f-b591-4039-8920-fe043f6ddd5b",
   "metadata": {},
   "outputs": [],
   "source": [
    "a=b=c=90\n"
   ]
  },
  {
   "cell_type": "code",
   "execution_count": 15,
   "id": "bde41dfc-33db-468e-9bdf-0f54b509c84a",
   "metadata": {},
   "outputs": [
    {
     "name": "stdout",
     "output_type": "stream",
     "text": [
      "90\n",
      "90\n"
     ]
    }
   ],
   "source": [
    "print(a)\n",
    "print(b)"
   ]
  },
  {
   "cell_type": "code",
   "execution_count": 16,
   "id": "2f98cf9c-8207-466b-866c-e507c07503be",
   "metadata": {},
   "outputs": [
    {
     "name": "stdout",
     "output_type": "stream",
     "text": [
      "x \t y \t z are 20 30 40\n"
     ]
    }
   ],
   "source": [
    "x,y,z=20,30,40\n",
    "print(\"x \\t y \\t z are\",x,y,z)"
   ]
  },
  {
   "cell_type": "code",
   "execution_count": 22,
   "id": "168bcefe-1bf4-438e-8dd5-2d284d4c97ec",
   "metadata": {},
   "outputs": [
    {
     "name": "stdout",
     "output_type": "stream",
     "text": [
      "3.0\n"
     ]
    }
   ],
   "source": [
    "x=math.sqrt(9)\n",
    "print(x)"
   ]
  },
  {
   "cell_type": "code",
   "execution_count": 21,
   "id": "8cb55303-c692-4f27-b054-e4b2961e410f",
   "metadata": {},
   "outputs": [
    {
     "name": "stdout",
     "output_type": "stream",
     "text": [
      "35\n"
     ]
    }
   ],
   "source": [
    "import math\n",
    "y=math.ceil(34.7)\n",
    "print(y)"
   ]
  },
  {
   "cell_type": "code",
   "execution_count": 24,
   "id": "58fec5ca-e6c9-4c20-8d9b-76c40a5ba736",
   "metadata": {},
   "outputs": [
    {
     "name": "stdout",
     "output_type": "stream",
     "text": [
      "34\n"
     ]
    }
   ],
   "source": [
    "z=math.floor(34.2)\n",
    "print(z)"
   ]
  },
  {
   "cell_type": "code",
   "execution_count": 25,
   "id": "6e9e2998-6d46-44bb-8e79-34e5d7c1f81b",
   "metadata": {},
   "outputs": [
    {
     "data": {
      "text/plain": [
       "90"
      ]
     },
     "execution_count": 25,
     "metadata": {},
     "output_type": "execute_result"
    }
   ],
   "source": [
    "a\n"
   ]
  },
  {
   "cell_type": "code",
   "execution_count": 26,
   "id": "fb490f81-421e-4a26-8393-f1cad0b7bc06",
   "metadata": {},
   "outputs": [],
   "source": [
    "del a"
   ]
  },
  {
   "cell_type": "code",
   "execution_count": 27,
   "id": "ce598642-6e7a-4fec-8d9b-af93b85fa6bf",
   "metadata": {},
   "outputs": [
    {
     "ename": "NameError",
     "evalue": "name 'a' is not defined",
     "output_type": "error",
     "traceback": [
      "\u001b[1;31m---------------------------------------------------------------------------\u001b[0m",
      "\u001b[1;31mNameError\u001b[0m                                 Traceback (most recent call last)",
      "Cell \u001b[1;32mIn[27], line 1\u001b[0m\n\u001b[1;32m----> 1\u001b[0m \u001b[43ma\u001b[49m\n",
      "\u001b[1;31mNameError\u001b[0m: name 'a' is not defined"
     ]
    }
   ],
   "source": [
    "a\n"
   ]
  },
  {
   "cell_type": "code",
   "execution_count": 30,
   "id": "be439c10-a016-43eb-9ad5-8404f99d6f81",
   "metadata": {},
   "outputs": [
    {
     "name": "stdout",
     "output_type": "stream",
     "text": [
      "False\n",
      "False\n",
      "True\n",
      "False\n",
      "True\n",
      "True\n"
     ]
    }
   ],
   "source": [
    "\"\"\"relational operators,they allow us to maintain the relationship between \n",
    "more than one variable/expression\"\"\"\n",
    "#> >= <  <=  ==  !=\n",
    "a=10\n",
    "b=20\n",
    "\n",
    "print(a==b)  #relational op\n",
    "print(a>b)\n",
    "print(a<b)\n",
    "print(a>=b)\n",
    "print(a<=b)\n",
    "print(a!=b)"
   ]
  },
  {
   "cell_type": "code",
   "execution_count": 31,
   "id": "70d6f0eb-e520-4c44-80a7-bfa370daea52",
   "metadata": {},
   "outputs": [
    {
     "name": "stdout",
     "output_type": "stream",
     "text": [
      "20\n"
     ]
    }
   ],
   "source": [
    "a=b \n",
    "print(a)"
   ]
  },
  {
   "cell_type": "code",
   "execution_count": null,
   "id": "60953e63-84d9-4cc0-a73c-d747a531031c",
   "metadata": {},
   "outputs": [],
   "source": [
    "#sequential \n",
    "#conditional\n",
    "#iteration"
   ]
  },
  {
   "cell_type": "code",
   "execution_count": null,
   "id": "4b1e18c5-de81-4043-b1f6-7d8983aae6cb",
   "metadata": {},
   "outputs": [],
   "source": [
    "#if condition\n",
    "'''if <condition>:\n",
    "    statement'''   #syntax of if condition"
   ]
  },
  {
   "cell_type": "code",
   "execution_count": 35,
   "id": "1ff8dd5f-5b4d-43ca-b0d9-7e4b62d81c7b",
   "metadata": {},
   "outputs": [
    {
     "name": "stdout",
     "output_type": "stream",
     "text": [
      "it is a positive no.\n"
     ]
    }
   ],
   "source": [
    "p=10\n",
    "if p>0:\n",
    "    print(\"it is a positive no.\")"
   ]
  },
  {
   "cell_type": "code",
   "execution_count": 39,
   "id": "0c575e51-7612-45bb-8006-c217bc3b32fb",
   "metadata": {},
   "outputs": [
    {
     "name": "stdin",
     "output_type": "stream",
     "text": [
      "enter the value for p 45\n"
     ]
    },
    {
     "name": "stdout",
     "output_type": "stream",
     "text": [
      "p is positive\n"
     ]
    }
   ],
   "source": [
    "p=int(input(\"enter the value for p\"))\n",
    "if p>0:   #identation op\n",
    "    print(\"p is positive\")\n",
    "else:\n",
    "    print(\"p is negative\")"
   ]
  },
  {
   "cell_type": "code",
   "execution_count": null,
   "id": "77ce8a49-e8dd-4c02-8c37-f1d9aa719544",
   "metadata": {},
   "outputs": [],
   "source": []
  }
 ],
 "metadata": {
  "kernelspec": {
   "display_name": "Python 3 (ipykernel)",
   "language": "python",
   "name": "python3"
  },
  "language_info": {
   "codemirror_mode": {
    "name": "ipython",
    "version": 3
   },
   "file_extension": ".py",
   "mimetype": "text/x-python",
   "name": "python",
   "nbconvert_exporter": "python",
   "pygments_lexer": "ipython3",
   "version": "3.12.0"
  }
 },
 "nbformat": 4,
 "nbformat_minor": 5
}
