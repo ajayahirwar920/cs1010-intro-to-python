{
  "cells": [
    {
      "cell_type": "markdown",
      "id": "f254d584-6819-490f-b71e-221a21e8a8c8",
      "metadata": {},
      "source": [
        "# Question No:1\n",
        "Even or Odd Number\n",
        "## Scenario:\n",
        "You need to write a program that takes a number from\n",
        "the user and tells whether the number is even or odd.\n",
        "## Approach:\n",
        "How would you check if a number is even or odd using\n",
        "a basic conditional statement?"
      ]
    },
    {
      "cell_type": "code",
      "execution_count": 1,
      "id": "ed1eff17-80f6-4279-b464-2317cc217e8c",
      "metadata": {
        "trusted": true
      },
      "outputs": [],
      "source": [
        "number = int(input(\"Enter a number: \"))\n"
      ]
    },
    {
      "cell_type": "code",
      "execution_count": 2,
      "id": "bc9e9ed1-b3a7-4d56-b7c3-14f46168fe90",
      "metadata": {
        "trusted": true
      },
      "outputs": [
        {
          "name": "stdout",
          "output_type": "stream",
          "text": [
            "The number is odd.\n"
          ]
        }
      ],
      "source": [
        "if number % 2 == 0:\n",
        "    print(\"The number is even.\")\n",
        "else:\n",
        "    print(\"The number is odd.\")"
      ]
    },
    {
      "cell_type": "markdown",
      "id": "2483ec69-6dbf-475e-bbcd-a4e21bc903b6",
      "metadata": {},
      "source": [
        "# Question No:2\n",
        "Sum of First N Numbers\n",
        "## Scenario:\n",
        "Write a program that asks the user for a number n, and\n",
        "then computes the sum of the first n natural numbers.\n",
        "## Approach:\n",
        "How would you compute the sum using a loop or a\n",
        "mathematical formula?\n"
      ]
    },
    {
      "cell_type": "code",
      "execution_count": 4,
      "id": "8201f67d-c1b9-42a2-a730-745c9c64d75a",
      "metadata": {
        "trusted": true
      },
      "outputs": [],
      "source": [
        "n = int(input(\"Enter a number: \"))"
      ]
    },
    {
      "cell_type": "code",
      "execution_count": 5,
      "id": "abf41808-e638-4bef-be92-8bd478ee0e42",
      "metadata": {
        "trusted": true
      },
      "outputs": [
        {
          "name": "stdout",
          "output_type": "stream",
          "text": [
            "The sum of the first 10 natural numbers is: 55\n"
          ]
        }
      ],
      "source": [
        "total = 0\n",
        "\n",
        "for i in range(1, n + 1):\n",
        "    total += i\n",
        "\n",
        "print(\"The sum of the first\", n, \"natural numbers is:\", total)"
      ]
    },
    {
      "cell_type": "code",
      "execution_count": null,
      "id": "e8f0d6b7-a8bd-486e-a78f-e6d2a35b1f13",
      "metadata": {
        "trusted": true
      },
      "outputs": [],
      "source": []
    }
  ],
  "metadata": {
    "kernelspec": {
      "display_name": "Python 3",
      "language": "python",
      "name": "python3"
    },
    "language_info": {
      "codemirror_mode": {
        "name": "ipython",
        "version": 3
      },
      "file_extension": ".py",
      "mimetype": "text/x-python",
      "name": "python",
      "nbconvert_exporter": "python",
      "pygments_lexer": "ipython3",
      "version": "3.10.17"
    }
  },
  "nbformat": 4,
  "nbformat_minor": 5
}
